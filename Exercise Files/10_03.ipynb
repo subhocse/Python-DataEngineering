{
  "nbformat": 4,
  "nbformat_minor": 0,
  "metadata": {
    "colab": {
      "provenance": []
    },
    "kernelspec": {
      "name": "python3",
      "display_name": "Python 3"
    },
    "language_info": {
      "name": "python"
    }
  },
  "cells": [
    {
      "cell_type": "code",
      "source": [
        "import logging\n",
        "\n",
        "logger = logging.getLogger('finance_module_logger')\n",
        "logger.setLevel(logging.DEBUG)\n",
        "\n",
        "handler = logging.FileHandler('finance.log')\n",
        "formatter = logging.Formatter('%(asctime)s - %(name)s - %(levelname)s - %(message)s')\n",
        "handler.setFormatter(formatter)\n",
        "\n",
        "logger.addHandler(handler)\n",
        "logger.debug('This is a debug message from the custom logger')\n"
      ],
      "metadata": {
        "colab": {
          "base_uri": "https://localhost:8080/"
        },
        "id": "SKF5UnWwNlBG",
        "outputId": "19fad1a3-6817-4994-bced-b94713964328"
      },
      "execution_count": null,
      "outputs": [
        {
          "output_type": "stream",
          "name": "stderr",
          "text": [
            "DEBUG:finance_module_logger:This is a debug message from the custom logger\n"
          ]
        }
      ]
    }
  ]
}